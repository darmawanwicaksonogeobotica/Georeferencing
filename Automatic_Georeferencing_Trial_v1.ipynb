{
 "cells": [
  {
   "cell_type": "markdown",
   "id": "28560ddc",
   "metadata": {},
   "source": [
    "# Georeferencing Script "
   ]
  },
  {
   "cell_type": "markdown",
   "id": "30afc179",
   "metadata": {},
   "source": [
    "## Importing the Library"
   ]
  },
  {
   "cell_type": "code",
   "execution_count": 1,
   "id": "5cbc54b3",
   "metadata": {},
   "outputs": [
    {
     "name": "stdout",
     "output_type": "stream",
     "text": [
      "Jupyter environment detected. Enabling Open3D WebVisualizer.\n",
      "[Open3D INFO] WebRTC GUI backend enabled.\n",
      "[Open3D INFO] WebRTCWindowSystem: HTTP handshake server disabled.\n"
     ]
    }
   ],
   "source": [
    "import laspy\n",
    "import numpy as np\n",
    "import open3d as o3d\n",
    "import matplotlib.pyplot as plt\n",
    "from sklearn.cluster import DBSCAN"
   ]
  },
  {
   "cell_type": "markdown",
   "id": "b76bb5f9",
   "metadata": {},
   "source": [
    "## Read the LAS File"
   ]
  },
  {
   "cell_type": "code",
   "execution_count": 2,
   "id": "5b2f39a1",
   "metadata": {},
   "outputs": [],
   "source": [
    "#Read Las File Function\n",
    "\n",
    "def read_lasfile(input_file):\n",
    "    # Path to your LAS file\n",
    "    las_file_path = input_file\n",
    "\n",
    "    # Read LAS file\n",
    "    with laspy.open(las_file_path) as las:\n",
    "        points = las.read().points\n",
    "\n",
    "    # Extract x, y, z coordinates\n",
    "    x = points['X'] * las.header.scale[0] + las.header.offset[0]\n",
    "    y = points['Y'] * las.header.scale[1] + las.header.offset[1]\n",
    "    z = points['Z'] * las.header.scale[2] + las.header.offset[2]\n",
    "\n",
    "    #Extract the intensity value\n",
    "    #intensity = points['intensity']\n",
    "\n",
    "\n",
    "    # Combine into a single array\n",
    "    point_cloud_array = np.vstack((x, y, z)).T\n",
    "\n",
    "    # Create Open3D PointCloud object\n",
    "    point_cloud = o3d.geometry.PointCloud()\n",
    "    point_cloud.points = o3d.utility.Vector3dVector(point_cloud_array)\n",
    "\n",
    "    #Map Intensity\n",
    "    #colors = np.vstack((intensity, intensity, intensity)).T\n",
    "    #point_cloud.colors = o3d.utility.Vector3dVector(colors)\n",
    "\n",
    "    # Visualize the point cloud\n",
    "    o3d.visualization.draw_geometries([point_cloud])\n"
   ]
  },
  {
   "cell_type": "markdown",
   "id": "eb50c7ba",
   "metadata": {},
   "source": [
    "## Convert the Unit"
   ]
  },
  {
   "cell_type": "code",
   "execution_count": 3,
   "id": "309623c8",
   "metadata": {},
   "outputs": [],
   "source": [
    "import laspy\n",
    "import numpy as np\n",
    "\n",
    "def convert_las_units_to_meters(input_file, output_file):\n",
    "    \"\"\"\n",
    "    Convert LAS file coordinates from millimeters to meters and save as a new file.\n",
    "\n",
    "    Parameters:\n",
    "    - input_file (str): Path to the input LAS file with millimeter units.\n",
    "    - output_file (str): Path to the output LAS file with meter units.\n",
    "    \"\"\"\n",
    "    # Load the LAS file\n",
    "    las = laspy.read(input_file)\n",
    "\n",
    "    # Convert coordinates from millimeters to meters\n",
    "    points_in_meters = np.vstack((las.x, las.y, las.z)).T / 1000  # Convert points to meters\n",
    "    offsets_in_meters = las.header.offsets / 1000  # Convert offsets to meters\n",
    "    scales = las.header.scales  # Keep scales the same\n",
    "\n",
    "    # Create a new LAS header and set the updated offsets and scales\n",
    "    header = laspy.LasHeader(point_format=las.header.point_format, version=las.header.version)\n",
    "    header.offsets = offsets_in_meters\n",
    "    header.scales = scales\n",
    "\n",
    "    # Create a new LAS file with converted points\n",
    "    converted_las = laspy.LasData(header)\n",
    "    converted_las.x = points_in_meters[:, 0]\n",
    "    converted_las.y = points_in_meters[:, 1]\n",
    "    converted_las.z = points_in_meters[:, 2]\n",
    "    converted_las.intensity = las.intensity  # Copy over intensity\n",
    "\n",
    "    # Save the converted points to a new LAS file\n",
    "    converted_las.write(output_file)\n",
    "    print(f\"Converted LAS file saved to {output_file}\")\n"
   ]
  },
  {
   "cell_type": "markdown",
   "id": "9fd2a9cb",
   "metadata": {},
   "source": [
    "## Filter and Save the Point Cloud  to New Files"
   ]
  },
  {
   "cell_type": "code",
   "execution_count": 4,
   "id": "a41e8016",
   "metadata": {},
   "outputs": [],
   "source": [
    "def filter_points_by_intensity(input_file, output_file, lowest_intensity, highest_intensity):\n",
    "    # Load LAS file\n",
    "    las = laspy.read(input_file)\n",
    "\n",
    "    # Extract points and intensities\n",
    "    points = np.vstack((las.x, las.y, las.z)).T\n",
    "    intensities = las.intensity\n",
    "\n",
    "    # Filter points by intensity within the specified tolerance\n",
    "    mask = (intensities >= lowest_intensity) & (intensities <= highest_intensity)\n",
    "    filtered_points = points[mask]\n",
    "    filtered_intensities = intensities[mask]\n",
    "\n",
    "    # Create a new LAS header\n",
    "    header = laspy.LasHeader(point_format=las.header.point_format, version=las.header.version)\n",
    "    header.offsets = las.header.offsets\n",
    "    header.scales = las.header.scales\n",
    "\n",
    "    # Create a new LAS file with filtered points\n",
    "    filtered_las = laspy.LasData(header)\n",
    "    filtered_las.x = filtered_points[:, 0]\n",
    "    filtered_las.y = filtered_points[:, 1]\n",
    "    filtered_las.z = filtered_points[:, 2]\n",
    "    filtered_las.intensity = filtered_intensities\n",
    "\n",
    "    # Save the filtered points to a new LAS file\n",
    "    filtered_las.write(output_file)"
   ]
  },
  {
   "cell_type": "code",
   "execution_count": 5,
   "id": "f5d90261",
   "metadata": {},
   "outputs": [],
   "source": [
    "# Set parameters\n",
    "input_file = r\"C:\\Users\\Darmawan\\OneDrive - Geobotica Pty Ltd\\Project\\3\\Data\\30km\\converted_scans_2024-09-10-18-11-20.las\"\n",
    "output_file = r\"C:\\Users\\Darmawan\\OneDrive - Geobotica Pty Ltd\\Project\\3\\Data\\30km\\trial_converted_scans_2024-09-10-18-11-20.las\"\n",
    "lowest = 200  # Example intensity value\n",
    "highest = 255  # Adjust tolerance as needed\n",
    "\n",
    "# Filter points by intensity and save to output LAS file\n",
    "filter_points_by_intensity(input_file, output_file, lowest, highest)"
   ]
  },
  {
   "cell_type": "markdown",
   "id": "53a726f9",
   "metadata": {},
   "source": [
    "## Clustering the Points with Certain Intensity Value using DBSCAN"
   ]
  },
  {
   "cell_type": "code",
   "execution_count": 6,
   "id": "4796863c",
   "metadata": {},
   "outputs": [],
   "source": [
    "def extract_xy (output_file, eps, sample):\n",
    "    # Path to your LAS file\n",
    "    las_file_path = output_file\n",
    "\n",
    "    # Read LAS file\n",
    "    with laspy.open(las_file_path) as las:\n",
    "        points = las.read().points\n",
    "\n",
    "    # Extract x, y, z coordinates\n",
    "    x = points['X'] * las.header.scale[0] + las.header.offset[0]\n",
    "    y = points['Y'] * las.header.scale[1] + las.header.offset[1]\n",
    "    z = points['Z'] * las.header.scale[2] + las.header.offset[2]\n",
    "    intensity = points ['intensity']\n",
    "    # Combine x and y into a 2D array\n",
    "    xy_array = np.vstack((x, y,z)).T\n",
    "    \n",
    "    # DBSCAN Clustering\n",
    "    eps = eps  # Maximum distance between two points to be in the same neighborhood\n",
    "    min_samples = sample  # Minimum number of points to form a dense cluster\n",
    "    dbscan = DBSCAN(eps=eps, min_samples=min_samples)\n",
    "    labels = dbscan.fit_predict(xy_array)\n",
    "\n",
    "    #combining the xy and labels\n",
    "    xy_with_labels = np.hstack((xy_array, labels[:, np.newaxis]))\n",
    "\n",
    "    # Visualize the clusters\n",
    "    plt.figure(figsize=(10, 8))\n",
    "    unique_labels = set(labels)\n",
    "\n",
    "    for label in unique_labels:\n",
    "        if label == -1:\n",
    "            # Noise points\n",
    "            color = 'k'\n",
    "            marker = 'x'\n",
    "            label_name = 'Noise'\n",
    "        else:\n",
    "            # Cluster points\n",
    "            color = plt.cm.Spectral(float(label) / len(unique_labels))\n",
    "            marker = 'o'\n",
    "            label_name = f'Cluster {label}'\n",
    "\n",
    "        cluster_points = xy_array[labels == label]\n",
    "        plt.scatter(cluster_points[:, 0], cluster_points[:, 1], c=[color], label=label_name, marker=marker)\n",
    "    \n",
    "    # Add labels near the points\n",
    "        for point in cluster_points:\n",
    "            plt.text(point[0], point[1], str(label), fontsize=18, color=color, alpha=1)\n",
    "\n",
    "    plt.title(\"DBSCAN Clustering of XY Points\")\n",
    "    plt.xlabel(\"X Coordinate\")\n",
    "    plt.ylabel(\"Y Coordinate\")\n",
    "    plt.legend()\n",
    "    plt.show()\n",
    "    \n",
    "    return labels, xy_with_labels"
   ]
  },
  {
   "cell_type": "code",
   "execution_count": 7,
   "id": "56fd4daf",
   "metadata": {},
   "outputs": [
    {
     "data": {
      "image/png": "[encoded data removed]",
      "text/plain": [
       "<Figure size 1000x800 with 1 Axes>"
      ]
     },
     "metadata": {},
     "output_type": "display_data"
    }
   ],
   "source": [
    "labels, xy_with_labels = extract_xy(output_file,3,1)"
   ]
  },
  {
   "cell_type": "markdown",
   "id": "0e31d9b3",
   "metadata": {},
   "source": [
    "## Calculating the Centroid for all Clusters, then Distances for all centroids"
   ]
  },
  {
   "cell_type": "code",
   "execution_count": 15,
   "id": "83e222f9",
   "metadata": {},
   "outputs": [],
   "source": [
    "import numpy as np\n",
    "\n",
    "# Assuming `xy_with_labels` contains the points and their labels\n",
    "# Each row: [x, y, z, ..., label]\n",
    "\n",
    "# Extract unique cluster labels from 0 to 352\n",
    "#unique_labels = np.arange(0, 353)  # Generate range from 0 to 352\n",
    "\n",
    "unique_labels = set(labels)\n",
    "\n",
    "# Initialize a dictionary to store centroids\n",
    "centroids = {}\n",
    "\n",
    "# Step 1: Calculate centroids for all clusters\n",
    "for label in unique_labels:\n",
    "    cluster_points = xy_with_labels[xy_with_labels[:, -1] == label]\n",
    "    if cluster_points.size > 0:  # Check if the cluster has points\n",
    "        centroids[label] = cluster_points[:, :3].mean(axis=0)\n",
    "    else:\n",
    "        centroids[label] = None  # Mark empty clusters as None\n",
    "\n",
    "# Step 2: Calculate distances between all cluster pairs\n",
    "distances = {}\n",
    "\n",
    "for i in unique_labels:\n",
    "    for j in unique_labels:\n",
    "        if i < j:  # To avoid duplicate calculations and self-distances\n",
    "            if centroids[i] is not None and centroids[j] is not None:\n",
    "                # Compute Euclidean distance\n",
    "                distance = np.linalg.norm(centroids[i] - centroids[j])\n",
    "                distances[(i, j)] = distance\n",
    "\n",
    "# Output the distances\n",
    "#for (cluster_a, cluster_b), distance in distances.items():\n",
    "    #print(f\"Distance between Cluster {cluster_a} and Cluster {cluster_b}: {distance}\")\n"
   ]
  },
  {
   "cell_type": "markdown",
   "id": "5b943eed",
   "metadata": {},
   "source": [
    "## Extract the Distances for all Actual Prisms"
   ]
  },
  {
   "cell_type": "code",
   "execution_count": 9,
   "id": "15f1c4c9",
   "metadata": {},
   "outputs": [
    {
     "name": "stdout",
     "output_type": "stream",
     "text": [
      "Distance between ('M207501', 'MD22'): 183.94331979715042\n",
      "Distance between ('M207501', 'S214501'): 387.7809104184914\n",
      "Distance between ('M207501', 'MD04'): 474.50964927174863\n",
      "Distance between ('MD22', 'S214501'): 230.55761968974173\n",
      "Distance between ('MD04', 'MD22'): 295.72858098939867\n",
      "Distance between ('MD04', 'S214501'): 254.5814496639486\n"
     ]
    }
   ],
   "source": [
    "import numpy as np\n",
    "\n",
    "# Define the known points of Daniel Decline area\n",
    "cp_danieldec = {\n",
    "    \"M207501\": [50110.995, 100230.157, 2076.059998],\n",
    "    \"MD22\": [50234.382, 100363.905, 2102.934998],\n",
    "    \"S214501\": [50236.321, 100589.829, 2148.884998],\n",
    "    \"MD04\": [50475.915, 100512.543, 2186.743998]\n",
    "}\n",
    "\n",
    "# Extract labels\n",
    "labels_cp = np.array(list(cp_danieldec.keys()))\n",
    "\n",
    "# Initialize dictionary to store distances\n",
    "distances_cp = {}\n",
    "\n",
    "# Calculate distances\n",
    "for i in labels_cp:\n",
    "    for j in labels_cp:\n",
    "        if i < j:  # To avoid duplicate calculations and self-distances\n",
    "            # Convert lists to NumPy arrays for mathematical operations\n",
    "            point_i = np.array(cp_danieldec[i])\n",
    "            point_j = np.array(cp_danieldec[j])\n",
    "            \n",
    "            # Compute Euclidean distance\n",
    "            distance = np.linalg.norm(point_i - point_j)\n",
    "            \n",
    "            # Store the distance in the dictionary\n",
    "            distances_cp[(i, j)] = distance\n",
    "\n",
    "# Output distances\n",
    "for pair, distance in distances_cp.items():\n",
    "    print(f\"Distance between {pair}: {distance}\")\n",
    "    "
   ]
  },
  {
   "cell_type": "markdown",
   "id": "cc422dcb",
   "metadata": {},
   "source": [
    "## Find the correspondence by comparing the distances between actual prisms and their candidates"
   ]
  },
  {
   "cell_type": "markdown",
   "id": "2e4bb79b",
   "metadata": {},
   "source": [
    "The pairing process was done by using a tolerance of 2 meter. The lower value indicates good data."
   ]
  },
  {
   "cell_type": "code",
   "execution_count": 17,
   "id": "eb6ed20a",
   "metadata": {},
   "outputs": [
    {
     "name": "stdout",
     "output_type": "stream",
     "text": [
      "Distance between (17, 20): 182.94609988616867\n",
      "Distance between (14, 20): 387.5016232985805\n",
      "Distance between (2, 13): 229.9454920553271\n",
      "Distance between (14, 17): 229.94207480553663\n",
      "Distance between (1, 16): 254.79723821285037\n",
      "Distance between (6, 17): 254.27916004013974\n"
     ]
    }
   ],
   "source": [
    "save_pair = []\n",
    "# Access each value\n",
    "for key, value in distances_cp.items():\n",
    "    # Threshold to find distances around 183\n",
    "    threshold = value\n",
    "    tolerance = 2  # +/- range\n",
    "\n",
    "    # Find all distances within the range [182, 184]\n",
    "    distances_around_value = {\n",
    "        pair: distance for pair, distance in distances.items() if abs(distance - threshold) <= tolerance\n",
    "    }\n",
    "\n",
    "    # Output the result\n",
    "    for pair, distance in distances_around_value.items():\n",
    "        save_pair.append(pair)\n",
    "        print(f\"Distance between {pair}: {distance}\")\n"
   ]
  },
  {
   "cell_type": "code",
   "execution_count": 18,
   "id": "2330a743",
   "metadata": {},
   "outputs": [],
   "source": [
    "cluster_pair = set(save_pair)\n",
    "\n",
    "# Extract unique cluster numbers\n",
    "unique_clusters = set()  # Initialize an empty set\n",
    "for pair in cluster_pair:\n",
    "    unique_clusters.update(pair)  # Add each number from the tuple to the set\n",
    "\n",
    "# Convert to a sorted list if needed\n",
    "unique_clusters_list_filtered = sorted(unique_clusters)"
   ]
  },
  {
   "cell_type": "code",
   "execution_count": 19,
   "id": "aa0687cc",
   "metadata": {},
   "outputs": [],
   "source": [
    "# Filter the centroids dictionary\n",
    "filtered_data_cluster_list = {key: value for key, value in centroids.items() if key in unique_clusters_list_filtered}"
   ]
  },
  {
   "cell_type": "code",
   "execution_count": 20,
   "id": "77e7894f",
   "metadata": {},
   "outputs": [
    {
     "data": {
      "image/png": "[encoded data removed]",
      "text/plain": [
       "<Figure size 1000x800 with 1 Axes>"
      ]
     },
     "metadata": {},
     "output_type": "display_data"
    }
   ],
   "source": [
    "# Plot the dictionary in 2D (x, y coordinates) using matplotlib\n",
    "plt.figure(figsize=(10, 8))\n",
    "\n",
    "for key, value in filtered_data_cluster_list.items():\n",
    "    x, y = value[0], value[1]  # Extract x and y coordinates\n",
    "    plt.scatter(x, y, label=f\"Point {key}\")\n",
    "    plt.text(x, y, f\"{key}\", fontsize=9, ha='right')\n",
    "\n",
    "plt.title(\"2D Plot of Filtered Data (X, Y Coordinates)\")\n",
    "plt.xlabel(\"X Coordinate\")\n",
    "plt.ylabel(\"Y Coordinate\")\n",
    "plt.legend()\n",
    "plt.grid(True)\n",
    "plt.show()\n"
   ]
  },
  {
   "cell_type": "markdown",
   "id": "fbad0814",
   "metadata": {},
   "source": [
    "## Second filter with higher Tolerance "
   ]
  },
  {
   "cell_type": "markdown",
   "id": "2ca00483",
   "metadata": {},
   "source": [
    "The higher tolerance was used for excluding the 'fake' prism with 1 metre of tolerance."
   ]
  },
  {
   "cell_type": "code",
   "execution_count": 21,
   "id": "8ee6dd6e",
   "metadata": {},
   "outputs": [
    {
     "name": "stdout",
     "output_type": "stream",
     "text": [
      "Matched Node Coordinates (Actual -> Detected):\n",
      "Actual Nodes 0-1 -> Detected Nodes: [-294.67, -32.46, -62.571], [-450.1924, -128.31660000000002, -52.897800000000004]\n",
      "Actual Nodes 0-2 -> Detected Nodes: [-225.07925000000003, 184.1095, -96.15875], [-450.1924, -128.31660000000002, -52.897800000000004]\n",
      "Actual Nodes 1-2 -> Detected Nodes: [-225.07925000000003, 184.1095, -96.15875], [-294.67, -32.46, -62.571]\n",
      "Actual Nodes 2-3 -> Detected Nodes: [-68.07693939393941, 79.38412121212122, -34.209606060606056], [-294.67, -32.46, -62.571]\n",
      "\n",
      "Unmatched Actual Node Coordinates:\n",
      "\n",
      "Unmatched Detected Node Coordinates:\n"
     ]
    }
   ],
   "source": [
    "import numpy as np\n",
    "from itertools import combinations\n",
    "\n",
    "# Convert to arrays\n",
    "detected_prisms = np.array(list(filtered_data_cluster_list.values()))\n",
    "actual_prisms = np.array(list(cp_danieldec.values()))\n",
    "\n",
    "# Function to compute pairwise distances between nodes\n",
    "def compute_pairwise_distances(points):\n",
    "    distances = {}\n",
    "    for i, j in combinations(range(len(points)), 2):\n",
    "        dist = np.linalg.norm(points[i] - points[j])\n",
    "        distances[(i, j)] = dist\n",
    "    return distances\n",
    "\n",
    "# Compute pairwise distances\n",
    "detected_distances = compute_pairwise_distances(detected_prisms)\n",
    "actual_distances = compute_pairwise_distances(actual_prisms)\n",
    "\n",
    "# Graph Matching\n",
    "def match_graphs(detected_distances, actual_distances, threshold=50.0):\n",
    "    mapping = {}  # Map actual node to detected node\n",
    "    unmatched_actual = set(range(len(actual_prisms)))  # Unmatched actual nodes\n",
    "    unmatched_detected = set(range(len(detected_prisms)))  # Unmatched detected nodes\n",
    "\n",
    "    # Match based on distance\n",
    "    for (ai, aj), actual_dist in actual_distances.items():\n",
    "        for (di, dj), detected_dist in detected_distances.items():\n",
    "            if abs(actual_dist - detected_dist) <= threshold:\n",
    "                mapping[(ai, aj)] = (di, dj)\n",
    "                unmatched_actual.discard(ai)\n",
    "                unmatched_actual.discard(aj)\n",
    "                unmatched_detected.discard(di)\n",
    "                unmatched_detected.discard(dj)\n",
    "\n",
    "    return mapping, unmatched_actual, unmatched_detected\n",
    "\n",
    "# Perform graph matching\n",
    "threshold = 1  # Tolerance for matching edge lengths\n",
    "mapping, unmatched_actual, unmatched_detected = match_graphs(detected_distances, actual_distances, threshold)\n",
    "\n",
    "# Extract matched coordinates for nodes based on the mapping\n",
    "matched_coordinates = {\n",
    "    (ai, aj): (detected_prisms[di], detected_prisms[dj])\n",
    "    for (ai, aj), (di, dj) in mapping.items()\n",
    "}\n",
    "\n",
    "# Print the matched coordinates\n",
    "print(\"Matched Node Coordinates (Actual -> Detected):\")\n",
    "for (ai, aj), (detected1, detected2) in matched_coordinates.items():\n",
    "    print(f\"Actual Nodes {ai}-{aj} -> Detected Nodes: {detected1.tolist()}, {detected2.tolist()}\")\n",
    "\n",
    "# Print unmatched actual node coordinates\n",
    "print(\"\\nUnmatched Actual Node Coordinates:\")\n",
    "for node in unmatched_actual:\n",
    "    print(f\"Actual Node {node}: {actual_prisms[node].tolist()}\")\n",
    "\n",
    "# Print unmatched detected node coordinates\n",
    "print(\"\\nUnmatched Detected Node Coordinates:\")\n",
    "for node in unmatched_detected:\n",
    "    print(f\"Detected Node {node}: {detected_prisms[node].tolist()}\")\n"
   ]
  },
  {
   "cell_type": "code",
   "execution_count": 22,
   "id": "0bc8d339",
   "metadata": {},
   "outputs": [],
   "source": [
    "# Store the matched coordinates into a list\n",
    "matched_list = []\n",
    "for (ai, aj), (detected1, detected2) in matched_coordinates.items():\n",
    "    matched_list.append({\n",
    "        \"actual_nodes\": (ai, aj),\n",
    "        \"detected_coordinates\": [detected1.tolist(), detected2.tolist()]\n",
    "    })\n",
    "\n",
    "# Flatten the matched coordinates into a single list of [x, y, z]\n",
    "flattened_matched_list = []\n",
    "for match in matched_list:\n",
    "    for coord in match[\"detected_coordinates\"]:\n",
    "        flattened_matched_list.append(coord)\n",
    "\n",
    "# Ensure uniqueness to avoid duplicates\n",
    "unique_flattened_list = [list(x) for x in set(tuple(x) for x in flattened_matched_list)]\n",
    "\n",
    "# Sort the list based on the x-coordinate (first value in each sublist)\n",
    "sorted_list = sorted(unique_flattened_list, key=lambda x: x[0])"
   ]
  },
  {
   "cell_type": "code",
   "execution_count": 23,
   "id": "5b75af29",
   "metadata": {},
   "outputs": [
    {
     "data": {
      "image/png": "[encoded data removed]",
      "text/plain": [
       "<Figure size 1000x600 with 1 Axes>"
      ]
     },
     "metadata": {},
     "output_type": "display_data"
    }
   ],
   "source": [
    "import numpy as np\n",
    "import matplotlib.pyplot as plt\n",
    "\n",
    "# Convert the list of coordinates into a NumPy array\n",
    "coordinate_array = np.array(sorted_list)\n",
    "\n",
    "# Extract X and Y for 2D plotting\n",
    "x_coords = coordinate_array[:, 0]  # First column (X)\n",
    "y_coords = coordinate_array[:, 1]  # Second column (Y)\n",
    "\n",
    "# Plot\n",
    "plt.figure(figsize=(10, 6))\n",
    "plt.scatter(x_coords, y_coords, c='blue', label='Coordinates')\n",
    "for i, (x, y) in enumerate(zip(x_coords, y_coords)):\n",
    "    plt.annotate(f'P{i+1}', (x, y), textcoords=\"offset points\", xytext=(5, 5), ha='center')\n",
    "\n",
    "plt.title('Masked Coordinates (2D)')\n",
    "plt.xlabel('X Coordinate')\n",
    "plt.ylabel('Y Coordinate')\n",
    "plt.grid(True)\n",
    "plt.legend()\n",
    "plt.show()\n"
   ]
  },
  {
   "cell_type": "markdown",
   "id": "8512fddd",
   "metadata": {},
   "source": [
    "## Third filter was conducted by using the Angle for all Clusters"
   ]
  },
  {
   "cell_type": "markdown",
   "id": "d7c3d2ee",
   "metadata": {},
   "source": [
    "This process filters the 'fake' prism with another parameter. In this case, we used angle as the checker. \n",
    "\n",
    "The process can be explained by:\n",
    "1. Calculating the angle for each vector in every node (cluster)\n",
    "2. Do for the actual prisms and the candidates\n",
    "3. comparing the angle for each node (cluster), use the threshold based on the quality of the data\n",
    "4. The pair matches are the actual prisms estimated from the point cloud"
   ]
  },
  {
   "cell_type": "code",
   "execution_count": 24,
   "id": "32860191",
   "metadata": {},
   "outputs": [
    {
     "name": "stdout",
     "output_type": "stream",
     "text": [
      "[155.5224  95.8566  -9.6732]\n",
      "[382.11546061 207.70072121  18.68819394]\n",
      "Computed Angles (in degrees):\n",
      "Angles (1, 2, 3, 4, '1'): 22.75, 6.32, 27.15 degrees\n",
      "Angles (1, 2, 3, 4, '2'): 139.33, 48.11, 169.14 degrees\n",
      "Angles (1, 2, 3, 4, '3'): 89.96, 72.37, 17.92 degrees\n",
      "Angles (1, 2, 3, 4, '4'): 62.89, 59.52, 4.54 degrees\n"
     ]
    }
   ],
   "source": [
    "import numpy as np\n",
    "from itertools import combinations\n",
    "\n",
    "# Convert the array into a dictionary\n",
    "filtered_data_cluster_list = {i + 1: np.array(coord) for i, coord in enumerate(sorted_list)}\n",
    "\n",
    "# Function to calculate angle between two vectors\n",
    "def calculate_angle(v1, v2):\n",
    "    dot_product = np.dot(v1, v2)\n",
    "    magnitude_v1 = np.linalg.norm(v1)\n",
    "    magnitude_v2 = np.linalg.norm(v2)\n",
    "    cos_theta = dot_product / (magnitude_v1 * magnitude_v2)\n",
    "    angle_radians = np.arccos(np.clip(cos_theta, -1.0, 1.0))  # Clip to avoid numerical errors\n",
    "    return np.degrees(angle_radians)\n",
    "\n",
    "# Calculate angles for a set of four prisms\n",
    "angles_prism = {}\n",
    "for p1, p2, p3, p4 in combinations(filtered_data_cluster_list.keys(), 4):\n",
    "    coords1 = filtered_data_cluster_list[p1]\n",
    "    coords2 = filtered_data_cluster_list[p2]\n",
    "    coords3 = filtered_data_cluster_list[p3]\n",
    "    coords4 = filtered_data_cluster_list[p4]\n",
    "    \n",
    "    # Compute vectors for each prism\n",
    "    vector_12 = coords2 - coords1\n",
    "    print (vector_12)\n",
    "    vector_21 = -vector_12\n",
    "    vector_13 = coords3 - coords1\n",
    "    vector_31 = -vector_13\n",
    "    vector_14 = coords4 - coords1\n",
    "    print(vector_14)\n",
    "    vector_41 = -vector_14\n",
    "    vector_23 = coords3 - coords2\n",
    "    vector_32 = -vector_23\n",
    "    vector_24 = coords4 - coords2\n",
    "    vector_42 = -vector_24\n",
    "    vector_34 = coords4 - coords3\n",
    "    vector_43 = -vector_34\n",
    "    \n",
    "    # Compute angles for each prism\n",
    "    angle_at_p1_1 = calculate_angle(vector_12, vector_13)  # Angle at p1 using vectors to p2 and p3\n",
    "    angle_at_p1_2 = calculate_angle(vector_12, vector_14)\n",
    "    angle_at_p1_3 = calculate_angle(vector_13, vector_14)\n",
    "    \n",
    "    angle_at_p2_1 = calculate_angle(vector_21, vector_23)  # Angle at p2 using vectors to p1 and p3\n",
    "    angle_at_p2_2 = calculate_angle(vector_24, vector_23)\n",
    "    angle_at_p2_3 = calculate_angle(vector_21, vector_24)\n",
    "    \n",
    "    angle_at_p3_1 = calculate_angle(vector_31, vector_34)  # Angle at p3 using vectors to p1 and p4\n",
    "    angle_at_p3_2 = calculate_angle(vector_32, vector_34)\n",
    "    angle_at_p3_3 = calculate_angle(vector_31, vector_32)\n",
    "    \n",
    "    angle_at_p4_1 = calculate_angle(vector_41, vector_43)  # Angle at p4 using vectors to p1 and p3\n",
    "    angle_at_p4_2 = calculate_angle(vector_42, vector_43)\n",
    "    angle_at_p4_3 = calculate_angle(vector_41, vector_42)\n",
    "    \n",
    "    # Store results for each prism\n",
    "    angles_prism[(p1, p2, p3, p4, \"1\")] = (angle_at_p1_1, angle_at_p1_2, angle_at_p1_3)\n",
    "    angles_prism[(p1, p2, p3, p4, \"2\")] = (angle_at_p2_1, angle_at_p2_2, angle_at_p2_3)\n",
    "    angles_prism[(p1, p2, p3, p4, \"3\")] = (angle_at_p3_1, angle_at_p3_2, angle_at_p3_3)\n",
    "    angles_prism[(p1, p2, p3, p4, \"4\")] = (angle_at_p4_1, angle_at_p4_2, angle_at_p4_3)\n",
    "\n",
    "# Print the results\n",
    "print(\"Computed Angles (in degrees):\")\n",
    "for key, angle_tuple in sorted(angles_prism.items()):\n",
    "    formatted_angles = \", \".join(f\"{angle:.2f}\" for angle in angle_tuple)\n",
    "    print(f\"Angles {key}: {formatted_angles} degrees\")\n"
   ]
  },
  {
   "cell_type": "code",
   "execution_count": 25,
   "id": "efcf476f",
   "metadata": {},
   "outputs": [
    {
     "name": "stdout",
     "output_type": "stream",
     "text": [
      "[123.387 133.748  26.875]\n",
      "[364.92  282.386 110.684]\n",
      "Computed Angles (in degrees):\n",
      "Angles ('M207501', 'MD22', 'S214501', 'MD04', '1'): 23.27, 10.68, 32.40 degrees\n",
      "Angles ('M207501', 'MD22', 'S214501', 'MD04', '2'): 138.35, 56.23, 162.69 degrees\n",
      "Angles ('M207501', 'MD22', 'S214501', 'MD04', '3'): 92.90, 74.93, 18.37 degrees\n",
      "Angles ('M207501', 'MD22', 'S214501', 'MD04', '4'): 54.70, 48.84, 6.62 degrees\n"
     ]
    }
   ],
   "source": [
    "import numpy as np\n",
    "from itertools import combinations\n",
    "\n",
    "\n",
    "# Convert the cp_points dictionary values to NumPy arrays\n",
    "cp_danieldec = {key: np.array(value) for key, value in cp_danieldec.items()}\n",
    "\n",
    "\n",
    "# Calculate angles for a set of four prisms\n",
    "angles_cp = {}\n",
    "for p1, p2, p3, p4 in combinations(cp_danieldec.keys(), 4):\n",
    "    coords1 = cp_danieldec[p1]\n",
    "    coords2 = cp_danieldec[p2]\n",
    "    coords3 = cp_danieldec[p3]\n",
    "    coords4 = cp_danieldec[p4]\n",
    "    \n",
    "    # Compute vectors for each prism\n",
    "    vector_12 = coords2 - coords1\n",
    "    print (vector_12)\n",
    "    vector_21 = -vector_12\n",
    "    vector_13 = coords3 - coords1\n",
    "    vector_31 = -vector_13\n",
    "    vector_14 = coords4 - coords1\n",
    "    print(vector_14)\n",
    "    vector_41 = -vector_14\n",
    "    vector_23 = coords3 - coords2\n",
    "    vector_32 = -vector_23\n",
    "    vector_24 = coords4 - coords2\n",
    "    vector_42 = -vector_24\n",
    "    vector_34 = coords4 - coords3\n",
    "    vector_43 = -vector_34\n",
    "    \n",
    "    # Compute angles for each prism\n",
    "    angle_at_p1_1 = calculate_angle(vector_12, vector_13)  # Angle at p1 using vectors to p2 and p3\n",
    "    angle_at_p1_2 = calculate_angle(vector_12, vector_14)\n",
    "    angle_at_p1_3 = calculate_angle(vector_13, vector_14)\n",
    "    \n",
    "    angle_at_p2_1 = calculate_angle(vector_21, vector_23)  # Angle at p2 using vectors to p1 and p3\n",
    "    angle_at_p2_2 = calculate_angle(vector_24, vector_23)\n",
    "    angle_at_p2_3 = calculate_angle(vector_21, vector_24)\n",
    "    \n",
    "    angle_at_p3_1 = calculate_angle(vector_31, vector_34)  # Angle at p3 using vectors to p1 and p4\n",
    "    angle_at_p3_2 = calculate_angle(vector_32, vector_34)\n",
    "    angle_at_p3_3 = calculate_angle(vector_31, vector_32)\n",
    "    \n",
    "    angle_at_p4_1 = calculate_angle(vector_41, vector_43)  # Angle at p4 using vectors to p1 and p3\n",
    "    angle_at_p4_2 = calculate_angle(vector_42, vector_43)\n",
    "    angle_at_p4_3 = calculate_angle(vector_41, vector_42)\n",
    "    \n",
    "    # Store results for each prism\n",
    "    angles_cp[(p1, p2, p3, p4, \"1\")] = (angle_at_p1_1, angle_at_p1_2, angle_at_p1_3)\n",
    "    angles_cp[(p1, p2, p3, p4, \"2\")] = (angle_at_p2_1, angle_at_p2_2, angle_at_p2_3)\n",
    "    angles_cp[(p1, p2, p3, p4, \"3\")] = (angle_at_p3_1, angle_at_p3_2, angle_at_p3_3)\n",
    "    angles_cp[(p1, p2, p3, p4, \"4\")] = (angle_at_p4_1, angle_at_p4_2, angle_at_p4_3)\n",
    "\n",
    "# Print the results\n",
    "print(\"Computed Angles (in degrees):\")\n",
    "for key, angle_tuple in sorted(angles_cp.items()):\n",
    "    formatted_angles = \", \".join(f\"{angle:.2f}\" for angle in angle_tuple)\n",
    "    print(f\"Angles {key}: {formatted_angles} degrees\")\n"
   ]
  },
  {
   "cell_type": "markdown",
   "id": "892e8da9",
   "metadata": {},
   "source": [
    "The result from the filtering process is that angle is the parameter. The index of 1, 2, and 3 is the index of the filtered prisms that match the actual prisms' description. In this case, the matched prisms are M207501, MD22, and S214501. So, We will use these points for the georeferencing process."
   ]
  },
  {
   "cell_type": "code",
   "execution_count": 27,
   "id": "2941f5ef",
   "metadata": {},
   "outputs": [
    {
     "name": "stdout",
     "output_type": "stream",
     "text": [
      "Filtered Matches (with matching 'at' keys):\n",
      "Prism Key (1, 2, 3, 4, '1') matches CP Key ('M207501', 'MD22', 'S214501', 'MD04', '1') -> Angle 1: 22.75 vs 23.27\n",
      "Prism Key (1, 2, 3, 4, '2') matches CP Key ('M207501', 'MD22', 'S214501', 'MD04', '2') -> Angle 1: 139.33 vs 138.35\n",
      "Prism Key (1, 2, 3, 4, '3') matches CP Key ('M207501', 'MD22', 'S214501', 'MD04', '3') -> Angle 3: 17.92 vs 18.37\n"
     ]
    }
   ],
   "source": [
    "# Threshold for matching\n",
    "threshold = 1\n",
    "\n",
    "# Find partial matches between the dictionaries\n",
    "partial_matches = []\n",
    "for key1, values1 in angles_prism.items():\n",
    "    for key2, values2 in angles_cp.items():\n",
    "        # Check individual angle pairs for matches within the threshold\n",
    "        matched_indices = [(i, v1, v2) for i, (v1, v2) in enumerate(zip(values1, values2)) if abs(v1 - v2) <= threshold]\n",
    "        if matched_indices:\n",
    "            partial_matches.append((key1, key2, matched_indices))\n",
    "\n",
    "# Filter matches where the \"at\" keys match exactly\n",
    "filtered_matches = [\n",
    "    (prism_key, cp_key, matches)\n",
    "    for prism_key, cp_key, matches in partial_matches\n",
    "    if prism_key[-1] == cp_key[-1]\n",
    "]\n",
    "\n",
    "# Display filtered results\n",
    "print(\"Filtered Matches (with matching 'at' keys):\")\n",
    "for prism_key, cp_key, matches in filtered_matches:\n",
    "    match_details = \", \".join(f\"Angle {i+1}: {v1:.2f} vs {v2:.2f}\" for i, v1, v2 in matches)\n",
    "    print(f\"Prism Key {prism_key} matches CP Key {cp_key} -> {match_details}\")\n",
    "    \n",
    "# Extract the '1', '2', '3' values from the filtered matches\n",
    "at_values = [prism_key[-1] for prism_key, cp_key, matches in filtered_matches]\n",
    "\n",
    "# Convert to an array\n",
    "at_values_array = np.array(at_values)"
   ]
  },
  {
   "cell_type": "code",
   "execution_count": 28,
   "id": "98c26420",
   "metadata": {},
   "outputs": [],
   "source": [
    "# Use the extracted array as an index to filter the dictionary (converted to strings for matching)\n",
    "final_filtered_cp = {key: value for key, value in cp_danieldec.items() if key[-1] in at_values_array}\n",
    "# Use the extracted array as an index to filter the dictionary\n",
    "final_filtered_prisms = {int(idx): filtered_data_cluster_list[int(idx)] for idx in at_values_array if int(idx) in filtered_data_cluster_list}\n",
    "# Convert the filtered dictionary values into an array\n",
    "filtered_list_prisms = np.array(list(final_filtered_prisms.values()))\n",
    "# Convert the filtered dictionary values into an array\n",
    "filtered_list_cp = np.array(list(final_filtered_cp.values()))\n"
   ]
  },
  {
   "cell_type": "code",
   "execution_count": 29,
   "id": "541b8d08",
   "metadata": {},
   "outputs": [
    {
     "data": {
      "image/png": "[encoded data removed]",
      "text/plain": [
       "<Figure size 1000x600 with 1 Axes>"
      ]
     },
     "metadata": {},
     "output_type": "display_data"
    }
   ],
   "source": [
    "import matplotlib.pyplot as plt\n",
    "\n",
    "# Extract X, Y, and Z coordinates\n",
    "x_coords = filtered_list_prisms[:, 0]\n",
    "y_coords = filtered_list_prisms[:, 1]\n",
    "\n",
    "# Create a 2D scatter plot\n",
    "plt.figure(figsize=(10, 6))\n",
    "plt.scatter(x_coords, y_coords, c='blue', marker='o', label='Filtered Points')\n",
    "\n",
    "# Add labels to the points\n",
    "for i, (x, y) in enumerate(zip(x_coords, y_coords)):\n",
    "    plt.text(x, y, f\"{i+1}\", color='red', fontsize=20)\n",
    "\n",
    "# Set plot labels\n",
    "plt.title(\"Final Possible Prisms in 2D Plot\")\n",
    "plt.xlabel(\"X Coordinate\")\n",
    "plt.ylabel(\"Y Coordinate\")\n",
    "plt.legend()\n",
    "plt.grid()\n",
    "\n",
    "# Show the plot\n",
    "plt.show()\n",
    "\n",
    "\n"
   ]
  },
  {
   "cell_type": "markdown",
   "id": "1c2dc5e6",
   "metadata": {},
   "source": [
    "## Georeferencing Process with Rigid Transformation Method"
   ]
  },
  {
   "cell_type": "code",
   "execution_count": 31,
   "id": "de3cfddf",
   "metadata": {},
   "outputs": [
    {
     "name": "stdout",
     "output_type": "stream",
     "text": [
      "Transformation Matrix:\n",
      "[[ 9.56792146e-01 -2.76774420e-01  8.91331032e-02  5.05116838e+04]\n",
      " [ 2.90403903e-01  8.94140212e-01 -3.40850192e-01  1.00457523e+05]\n",
      " [ 1.46411224e-02  3.52007388e-01  9.35882704e-01  2.17730875e+03]\n",
      " [ 0.00000000e+00  0.00000000e+00  0.00000000e+00  1.00000000e+00]]\n",
      "Transformed Points:\n",
      "[[ 50111.74309594 100230.08278506   2076.04289704]\n",
      " [ 50233.15284958 100364.25344986   2103.00917031]\n",
      " [ 50236.80205448 100589.55476507   2148.82792665]]\n"
     ]
    }
   ],
   "source": [
    "import numpy as np\n",
    "\n",
    "def compute_transformation_matrix(local_points, global_points):\n",
    "    \"\"\"\n",
    "    Compute the transformation matrix to align local 3D coordinates to global 3D coordinates.\n",
    "\n",
    "    :param local_points: Nx3 array of local 3D points\n",
    "    :param global_points: Nx3 array of corresponding global 3D points\n",
    "    :return: 4x4 transformation matrix\n",
    "    \"\"\"\n",
    "    if local_points.shape != global_points.shape:\n",
    "        raise ValueError(\"Local and global point sets must have the same shape.\")\n",
    "\n",
    "    # Step 1: Compute centroids\n",
    "    local_centroid = np.mean(local_points, axis=0)\n",
    "    global_centroid = np.mean(global_points, axis=0)\n",
    "\n",
    "    # Step 2: Center the points\n",
    "    centered_local = local_points - local_centroid\n",
    "    centered_global = global_points - global_centroid\n",
    "\n",
    "    # Step 3: Compute covariance matrix\n",
    "    covariance_matrix = np.dot(centered_local.T, centered_global)\n",
    "\n",
    "    # Step 4: Singular Value Decomposition (SVD)\n",
    "    U, _, Vt = np.linalg.svd(covariance_matrix)\n",
    "    R = np.dot(Vt.T, U.T)\n",
    "\n",
    "    # Handle special reflection case\n",
    "    if np.linalg.det(R) < 0:\n",
    "        Vt[-1, :] *= -1\n",
    "        R = np.dot(Vt.T, U.T)\n",
    "\n",
    "    # Step 5: Compute translation\n",
    "    t = global_centroid - np.dot(R, local_centroid)\n",
    "\n",
    "    # Step 6: Construct the transformation matrix\n",
    "    transformation_matrix = np.eye(4)\n",
    "    transformation_matrix[:3, :3] = R\n",
    "    transformation_matrix[:3, 3] = t\n",
    "\n",
    "    return transformation_matrix\n",
    "\n",
    "# Example Usage\n",
    "if __name__ == \"__main__\":\n",
    "    # Example points in local and global coordinates\n",
    "    local_points = filtered_list_prisms\n",
    "    global_points = filtered_list_cp\n",
    "\n",
    "    # Compute transformation matrix\n",
    "    transformation_matrix = compute_transformation_matrix(local_points, global_points)\n",
    "    print(\"Transformation Matrix:\")\n",
    "    print(transformation_matrix)\n",
    "\n",
    "    # Apply the transformation to local points\n",
    "    local_points_h = np.hstack((local_points, np.ones((local_points.shape[0], 1))))  # Convert to homogeneous coordinates\n",
    "    transformed_points = np.dot(transformation_matrix, local_points_h.T).T[:, :3]   # Apply transformation\n",
    "    print(\"Transformed Points:\")\n",
    "    print(transformed_points)\n"
   ]
  },
  {
   "cell_type": "markdown",
   "id": "b06867be",
   "metadata": {},
   "source": [
    "## The differences between transformed points and the actual prisms in 3D"
   ]
  },
  {
   "cell_type": "code",
   "execution_count": 32,
   "id": "3632d4e0",
   "metadata": {},
   "outputs": [
    {
     "data": {
      "text/plain": [
       "array([[ 0.74809594, -0.07421494, -0.01710096],\n",
       "       [-1.22915042,  0.34844986,  0.07417231],\n",
       "       [ 0.48105448, -0.27423493, -0.05707135]])"
      ]
     },
     "execution_count": 32,
     "metadata": {},
     "output_type": "execute_result"
    }
   ],
   "source": [
    "# Calculate differences (dx, dy, dz)\n",
    "differences = transformed_points - global_points\n",
    "\n",
    "# Display the differences\n",
    "dx_dy_dz = differences\n",
    "\n",
    "dx_dy_dz"
   ]
  },
  {
   "cell_type": "markdown",
   "id": "40ccb7db",
   "metadata": {},
   "source": [
    "## Applying the Transformation Matrix Result from the previous process to transform the whole Point Cloud"
   ]
  },
  {
   "cell_type": "code",
   "execution_count": 33,
   "id": "4d9579f5",
   "metadata": {},
   "outputs": [
    {
     "name": "stdout",
     "output_type": "stream",
     "text": [
      "Transformed source points saved to transformed_source_points.las\n"
     ]
    }
   ],
   "source": [
    "# Step 1: Read LAS file using laspy\n",
    "input_las_path = input_file\n",
    "las = laspy.read(input_las_path)\n",
    "\n",
    "# Extract point coordinates\n",
    "points = np.vstack((las.x, las.y, las.z)).T\n",
    "\n",
    "# Step 2: Convert to Open3D point cloud\n",
    "pcd = o3d.geometry.PointCloud()\n",
    "pcd.points = o3d.utility.Vector3dVector(points)\n",
    "\n",
    "# Step 3: Apply transformation\n",
    "pcd.transform(transformation_matrix)\n",
    "\n",
    "# Step 4: Write transformed point cloud back to LAS\n",
    "transformed_points = np.asarray(pcd.points)\n",
    "\n",
    "# Update the LAS file with transformed points\n",
    "las.x = transformed_points[:, 0]\n",
    "las.y = transformed_points[:, 1]\n",
    "las.z = transformed_points[:, 2]\n",
    "\n",
    "output_las_path = \"transformed_source_points.las\"\n",
    "las.write(output_las_path)\n",
    "\n",
    "print(f\"Transformed source points saved to {output_las_path}\")\n"
   ]
  },
  {
   "cell_type": "code",
   "execution_count": null,
   "id": "cabee6c8",
   "metadata": {},
   "outputs": [],
   "source": []
  }
 ],
 "metadata": {
  "kernelspec": {
   "display_name": "Python 3 (ipykernel)",
   "language": "python",
   "name": "python3"
  },
  "language_info": {
   "codemirror_mode": {
    "name": "ipython",
    "version": 3
   },
   "file_extension": ".py",
   "mimetype": "text/x-python",
   "name": "python",
   "nbconvert_exporter": "python",
   "pygments_lexer": "ipython3",
   "version": "3.9.18"
  }
 },
 "nbformat": 4,
 "nbformat_minor": 5
}
